{
 "cells": [
  {
   "cell_type": "code",
   "execution_count": 7,
   "id": "b8e1d980",
   "metadata": {},
   "outputs": [],
   "source": [
    "from torch import nn\n",
    "import numpy as np\n",
    "from transformers import AutoModelForSequenceClassification\n",
    "from transformers import AutoTokenizer"
   ]
  },
  {
   "cell_type": "code",
   "execution_count": 5,
   "id": "275be508",
   "metadata": {},
   "outputs": [],
   "source": [
    "# 1. Download and save the model dependencies\n",
    "\n",
    "model = AutoModelForSequenceClassification.from_pretrained(\"cardiffnlp/twitter-roberta-base-sentiment\")\n",
    "model.save_pretrained(\"models/\")"
   ]
  },
  {
   "cell_type": "code",
   "execution_count": null,
   "id": "62c82d99",
   "metadata": {},
   "outputs": [],
   "source": [
    "# 2. Download and save the tokenizer dependencies\n",
    "\n",
    "tokenizer = AutoTokenizer.from_pretrained(\"cardiffnlp/twitter-roberta-base-sentiment\")\n",
    "tokenizer.save_pretrained(\"models/\")"
   ]
  },
  {
   "cell_type": "code",
   "execution_count": 3,
   "id": "b38a56cb",
   "metadata": {
    "scrolled": true
   },
   "outputs": [],
   "source": [
    "# 3. Load the model to tokenizer and pretrained model\n",
    "model = AutoModelForSequenceClassification.from_pretrained(\"models/\", local_files_only=True)\n",
    "tokenizer = AutoTokenizer.from_pretrained(\"models/\")"
   ]
  },
  {
   "cell_type": "code",
   "execution_count": 4,
   "id": "e8f2cfb2",
   "metadata": {},
   "outputs": [],
   "source": [
    "# 4. Test if tokenizer and model are working as expected\n",
    "text = \"I hate this game\"\n",
    "encoded_input = tokenizer(text, return_tensors='pt')\n",
    "output = model(**encoded_input)\n",
    "\n",
    "softmax = nn.Softmax(dim=1)\n",
    "scores = softmax(output[0])"
   ]
  },
  {
   "cell_type": "code",
   "execution_count": 8,
   "id": "2e8c3a7a",
   "metadata": {},
   "outputs": [],
   "source": [
    "labels = ['Negative', 'Neutral', 'Positive']\n",
    "confidence_scores = scores[0].detach().numpy()\n",
    "pred = np.argmax(confidence_scores)"
   ]
  },
  {
   "cell_type": "code",
   "execution_count": 9,
   "id": "f6a0dfb1",
   "metadata": {},
   "outputs": [],
   "source": [
    "output = {\n",
    "        \"highest\": {\n",
    "            \"label\": labels[pred],\n",
    "            \"confidence_score\": confidence_scores[pred]\n",
    "        },\n",
    "        \"all\": {\n",
    "            \"labels\": labels,\n",
    "            \"confidence_scores\": list(confidence_scores)\n",
    "        }\n",
    "        \n",
    "    }"
   ]
  },
  {
   "cell_type": "code",
   "execution_count": 10,
   "id": "917af4ea",
   "metadata": {
    "scrolled": true
   },
   "outputs": [
    {
     "data": {
      "text/plain": [
       "{'highest': {'label': 'Negative', 'confidence_score': 0.9781382},\n",
       " 'all': {'labels': ['Negative', 'Neutral', 'Positive'],\n",
       "  'confidence_scores': [0.9781382, 0.017138258, 0.004723625]}}"
      ]
     },
     "execution_count": 10,
     "metadata": {},
     "output_type": "execute_result"
    }
   ],
   "source": [
    "output"
   ]
  },
  {
   "cell_type": "code",
   "execution_count": null,
   "id": "477f97ad",
   "metadata": {},
   "outputs": [],
   "source": []
  }
 ],
 "metadata": {
  "kernelspec": {
   "display_name": "Python 3 (ipykernel)",
   "language": "python",
   "name": "python3"
  },
  "language_info": {
   "codemirror_mode": {
    "name": "ipython",
    "version": 3
   },
   "file_extension": ".py",
   "mimetype": "text/x-python",
   "name": "python",
   "nbconvert_exporter": "python",
   "pygments_lexer": "ipython3",
   "version": "3.9.6"
  }
 },
 "nbformat": 4,
 "nbformat_minor": 5
}
